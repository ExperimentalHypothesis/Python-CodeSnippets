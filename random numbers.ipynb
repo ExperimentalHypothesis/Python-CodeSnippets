{
 "cells": [
  {
   "cell_type": "markdown",
   "metadata": {},
   "source": [
    "### Working with Random Numbers in Python"
   ]
  },
  {
   "cell_type": "code",
   "execution_count": 4,
   "metadata": {},
   "outputs": [],
   "source": [
    "import random"
   ]
  },
  {
   "cell_type": "markdown",
   "metadata": {},
   "source": [
    "By default this generates a random number between 0-1"
   ]
  },
  {
   "cell_type": "code",
   "execution_count": 2,
   "metadata": {},
   "outputs": [
    {
     "data": {
      "text/plain": [
       "0.3892079461279163"
      ]
     },
     "execution_count": 2,
     "metadata": {},
     "output_type": "execute_result"
    }
   ],
   "source": [
    "random.random()"
   ]
  },
  {
   "cell_type": "code",
   "execution_count": 6,
   "metadata": {},
   "outputs": [
    {
     "name": "stdout",
     "output_type": "stream",
     "text": [
      "0.7598354048943178\n",
      "0.35403015377872527\n",
      "0.1249998511733228\n",
      "0.562371175211611\n",
      "0.8800978312092621\n",
      "0.051712158174397116\n",
      "0.3615480704159061\n",
      "0.11967838714073009\n",
      "0.7501907178813699\n",
      "0.5839298731248905\n"
     ]
    }
   ],
   "source": [
    "for i in range(10):\n",
    "    print(random.random())"
   ]
  },
  {
   "cell_type": "code",
   "execution_count": 7,
   "metadata": {},
   "outputs": [
    {
     "data": {
      "text/plain": [
       "[0.7851806576327327,\n",
       " 0.2709755998625314,\n",
       " 0.9989589348102074,\n",
       " 0.12335769838813282,\n",
       " 0.022288315020575156,\n",
       " 0.15421634960929098,\n",
       " 0.019267702103520357,\n",
       " 0.7426981946618378,\n",
       " 0.5373907630128669,\n",
       " 0.5100586534115074]"
      ]
     },
     "execution_count": 7,
     "metadata": {},
     "output_type": "execute_result"
    }
   ],
   "source": [
    "[random.random() for i in range(10)] "
   ]
  },
  {
   "cell_type": "markdown",
   "metadata": {},
   "source": [
    "Random floats in a range other than 0,1 (use uniform)"
   ]
  },
  {
   "cell_type": "code",
   "execution_count": 17,
   "metadata": {},
   "outputs": [
    {
     "data": {
      "text/plain": [
       "8.332508918636048"
      ]
     },
     "execution_count": 17,
     "metadata": {},
     "output_type": "execute_result"
    }
   ],
   "source": [
    "random.uniform(0,10)"
   ]
  },
  {
   "cell_type": "code",
   "execution_count": 18,
   "metadata": {},
   "outputs": [
    {
     "data": {
      "text/plain": [
       "[1.6513167096065957,\n",
       " 3.157238451522648,\n",
       " 4.710646407859935,\n",
       " 3.715085205184002,\n",
       " 3.748110115161088,\n",
       " 3.186584073002522,\n",
       " 4.187720891585239,\n",
       " 3.6946479090231517,\n",
       " 2.336150993320625,\n",
       " 3.7756898359222855]"
      ]
     },
     "execution_count": 18,
     "metadata": {},
     "output_type": "execute_result"
    }
   ],
   "source": [
    "[random.uniform(1,5) for i in range(10)]"
   ]
  },
  {
   "cell_type": "markdown",
   "metadata": {},
   "source": [
    "Generating rn INTS in a specified range both x,y included!!!!\n"
   ]
  },
  {
   "cell_type": "code",
   "execution_count": 9,
   "metadata": {},
   "outputs": [
    {
     "data": {
      "text/plain": [
       "8"
      ]
     },
     "execution_count": 9,
     "metadata": {},
     "output_type": "execute_result"
    }
   ],
   "source": [
    "random.randint(1,10)"
   ]
  },
  {
   "cell_type": "code",
   "execution_count": 14,
   "metadata": {},
   "outputs": [
    {
     "data": {
      "text/plain": [
       "[3, 7, 6, 2, 6, 8, 6, 6, 2, 1]"
      ]
     },
     "execution_count": 14,
     "metadata": {},
     "output_type": "execute_result"
    }
   ],
   "source": [
    "[random.randint(1,10) for i in range(10)]"
   ]
  },
  {
   "cell_type": "markdown",
   "metadata": {},
   "source": [
    "Generating rn in a specified range [x,y) (use randrange)"
   ]
  },
  {
   "cell_type": "code",
   "execution_count": 15,
   "metadata": {},
   "outputs": [
    {
     "data": {
      "text/plain": [
       "2"
      ]
     },
     "execution_count": 15,
     "metadata": {},
     "output_type": "execute_result"
    }
   ],
   "source": [
    "random.randrange(1, 10)"
   ]
  },
  {
   "cell_type": "code",
   "execution_count": 16,
   "metadata": {},
   "outputs": [
    {
     "data": {
      "text/plain": [
       "[3, 5, 5, 9, 2, 8, 4, 6, 8, 7]"
      ]
     },
     "execution_count": 16,
     "metadata": {},
     "output_type": "execute_result"
    }
   ],
   "source": [
    "[random.randrange(1,10) for i in range(10)]"
   ]
  },
  {
   "cell_type": "markdown",
   "metadata": {},
   "source": [
    "Pick a Random Element From a List (use choice)"
   ]
  },
  {
   "cell_type": "code",
   "execution_count": 37,
   "metadata": {},
   "outputs": [
    {
     "data": {
      "text/plain": [
       "'mario'"
      ]
     },
     "execution_count": 37,
     "metadata": {},
     "output_type": "execute_result"
    }
   ],
   "source": [
    "l = [\"dan\", \"ben\", \"rich\", \"max\", \"dave\", \"paul\", \"ron\", \"alex\", \"john\", \"mario\", \"fabi\", \"bret\", \"chris\"]\n",
    "random.choice(l)"
   ]
  },
  {
   "cell_type": "code",
   "execution_count": 38,
   "metadata": {},
   "outputs": [
    {
     "data": {
      "text/plain": [
       "['paul', 'ron', 'mario']"
      ]
     },
     "execution_count": 38,
     "metadata": {},
     "output_type": "execute_result"
    }
   ],
   "source": [
    "# chose 3 random names that will be winners\n",
    "[random.choice(l) for i in range(3)]"
   ]
  },
  {
   "cell_type": "markdown",
   "metadata": {},
   "source": [
    "Pick x random elements (use sample)"
   ]
  },
  {
   "cell_type": "code",
   "execution_count": 70,
   "metadata": {},
   "outputs": [],
   "source": [
    "l = [\"dan\", \"ben\", \"rich\", \"max\", \"dave\", \"paul\", \"ron\", \"alex\", \"john\", \"mario\", \"fabi\", \"bret\", \"chris\"]"
   ]
  },
  {
   "cell_type": "code",
   "execution_count": 71,
   "metadata": {},
   "outputs": [
    {
     "data": {
      "text/plain": [
       "['max', 'dan', 'bret']"
      ]
     },
     "execution_count": 71,
     "metadata": {},
     "output_type": "execute_result"
    }
   ],
   "source": [
    "random.sample(l, 3) # same as [random.choice(l) for i in range(3)]"
   ]
  },
  {
   "cell_type": "markdown",
   "metadata": {},
   "source": [
    "Randomize a list (use shuffle)"
   ]
  },
  {
   "cell_type": "code",
   "execution_count": 64,
   "metadata": {},
   "outputs": [
    {
     "data": {
      "text/plain": [
       "['dan',\n",
       " 'ben',\n",
       " 'rich',\n",
       " 'max',\n",
       " 'dave',\n",
       " 'paul',\n",
       " 'ron',\n",
       " 'alex',\n",
       " 'john',\n",
       " 'mario',\n",
       " 'fabi',\n",
       " 'bret',\n",
       " 'chris']"
      ]
     },
     "execution_count": 64,
     "metadata": {},
     "output_type": "execute_result"
    }
   ],
   "source": [
    "l = [\"dan\", \"ben\", \"rich\", \"max\", \"dave\", \"paul\", \"ron\", \"alex\", \"john\", \"mario\", \"fabi\", \"bret\", \"chris\"]\n",
    "l"
   ]
  },
  {
   "cell_type": "code",
   "execution_count": 62,
   "metadata": {},
   "outputs": [],
   "source": [
    "# beware do INPLACE shuffle\n",
    "random.shuffle(l)"
   ]
  },
  {
   "cell_type": "code",
   "execution_count": 63,
   "metadata": {},
   "outputs": [
    {
     "data": {
      "text/plain": [
       "['john',\n",
       " 'fabi',\n",
       " 'mario',\n",
       " 'alex',\n",
       " 'chris',\n",
       " 'ben',\n",
       " 'dan',\n",
       " 'paul',\n",
       " 'ron',\n",
       " 'rich',\n",
       " 'dave',\n",
       " 'max',\n",
       " 'bret']"
      ]
     },
     "execution_count": 63,
     "metadata": {},
     "output_type": "execute_result"
    }
   ],
   "source": [
    "l"
   ]
  },
  {
   "cell_type": "markdown",
   "metadata": {},
   "source": [
    "Securifying r numbers with crypto"
   ]
  },
  {
   "cell_type": "code",
   "execution_count": 90,
   "metadata": {},
   "outputs": [
    {
     "data": {
      "text/plain": [
       "[717, 739, 749, 431, 77]"
      ]
     },
     "execution_count": 90,
     "metadata": {},
     "output_type": "execute_result"
    }
   ],
   "source": [
    "# random.SystemRandom is cryptographically secure pseudo-random number generator\n",
    "import random\n",
    "\n",
    "# make an instance of SystemRandom() class which will have all the methods used above\n",
    "generator = random.SystemRandom()\n",
    "\n",
    "# a random flaot between 0,1\n",
    "generator.random()\n",
    "# a random float arbitrary range\n",
    "generator.uniform(10,20)\n",
    "# a random int\n",
    "generator.randint(1,10)\n",
    "# a random from a range [y,x)\n",
    "generator.randrange(1,20)\n",
    "# a random choice from a sequence\n",
    "generator.choice(range(10))\n",
    "# randomizing a sequence (inplace randomization)\n",
    "l = [i for i in range(10)]\n",
    "generator.shuffle(l)\n",
    "# picking up a random sample\n",
    "generator.sample(range(1000), 5)"
   ]
  }
 ],
 "metadata": {
  "kernelspec": {
   "display_name": "Python 3",
   "language": "python",
   "name": "python3"
  },
  "language_info": {
   "codemirror_mode": {
    "name": "ipython",
    "version": 3
   },
   "file_extension": ".py",
   "mimetype": "text/x-python",
   "name": "python",
   "nbconvert_exporter": "python",
   "pygments_lexer": "ipython3",
   "version": "3.6.5"
  }
 },
 "nbformat": 4,
 "nbformat_minor": 2
}
