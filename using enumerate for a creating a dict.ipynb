{
 "cells": [
  {
   "cell_type": "markdown",
   "metadata": {},
   "source": [
    "### using enumerate in a dict"
   ]
  },
  {
   "cell_type": "code",
   "execution_count": 17,
   "metadata": {},
   "outputs": [],
   "source": [
    "# lets say i have a list of object and need to map them into dict with number for each \n",
    "l = [\"frank\", \"jon\", \"dan\", \"brian\", \"alex\", \"kirk\", \"lenna\", \"peter\", \"paul\"]"
   ]
  },
  {
   "cell_type": "code",
   "execution_count": 13,
   "metadata": {},
   "outputs": [
    {
     "data": {
      "text/plain": [
       "[(0, 'frank'),\n",
       " (1, 'jon'),\n",
       " (2, 'dan'),\n",
       " (3, 'brian'),\n",
       " (4, 'alex'),\n",
       " (5, 'kirk'),\n",
       " (6, 'lenna'),\n",
       " (7, 'peter'),\n",
       " (8, 'paul')]"
      ]
     },
     "execution_count": 13,
     "metadata": {},
     "output_type": "execute_result"
    }
   ],
   "source": [
    "# this creates a tuple but i need a dict\n",
    "list(enumerate(l))"
   ]
  },
  {
   "cell_type": "code",
   "execution_count": 15,
   "metadata": {},
   "outputs": [
    {
     "data": {
      "text/plain": [
       "{0: 'frank',\n",
       " 1: 'jon',\n",
       " 2: 'dan',\n",
       " 3: 'brian',\n",
       " 4: 'alex',\n",
       " 5: 'kirk',\n",
       " 6: 'lenna',\n",
       " 7: 'peter',\n",
       " 8: 'paul'}"
      ]
     },
     "execution_count": 15,
     "metadata": {},
     "output_type": "execute_result"
    }
   ],
   "source": [
    "# ok, but what if i need it in the opposite direction\n",
    "dict(enumerate(l))"
   ]
  },
  {
   "cell_type": "code",
   "execution_count": 16,
   "metadata": {},
   "outputs": [
    {
     "data": {
      "text/plain": [
       "{'frank': 0,\n",
       " 'jon': 1,\n",
       " 'dan': 2,\n",
       " 'brian': 3,\n",
       " 'alex': 4,\n",
       " 'kirk': 5,\n",
       " 'lenna': 6,\n",
       " 'peter': 7,\n",
       " 'paul': 8}"
      ]
     },
     "execution_count": 16,
     "metadata": {},
     "output_type": "execute_result"
    }
   ],
   "source": [
    "# here comes the dict comprehension\n",
    "{k:v for v, k in enumerate(l)}"
   ]
  }
 ],
 "metadata": {
  "kernelspec": {
   "display_name": "Python 3",
   "language": "python",
   "name": "python3"
  },
  "language_info": {
   "codemirror_mode": {
    "name": "ipython",
    "version": 3
   },
   "file_extension": ".py",
   "mimetype": "text/x-python",
   "name": "python",
   "nbconvert_exporter": "python",
   "pygments_lexer": "ipython3",
   "version": "3.6.5"
  }
 },
 "nbformat": 4,
 "nbformat_minor": 2
}
