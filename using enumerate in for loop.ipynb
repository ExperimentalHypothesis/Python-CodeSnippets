{
 "cells": [
  {
   "cell_type": "markdown",
   "metadata": {},
   "source": [
    "#### using enumerate"
   ]
  },
  {
   "cell_type": "markdown",
   "metadata": {},
   "source": [
    "```it does two things in one go: \n",
    "1) loops over a collection of items and \n",
    "2) keeps track of the current item’s index```"
   ]
  },
  {
   "cell_type": "code",
   "execution_count": 22,
   "metadata": {},
   "outputs": [
    {
     "name": "stdout",
     "output_type": "stream",
     "text": [
      "0 frank\n",
      "1 jon\n",
      "2 dan\n",
      "3 brian\n",
      "4 alex\n",
      "5 kirk\n",
      "6 lenna\n",
      "7 peter\n",
      "8 paul\n"
     ]
    }
   ],
   "source": [
    "l = [\"frank\", \"jon\", \"dan\", \"brian\", \"alex\", \"kirk\", \"lenna\", \"peter\", \"paul\"]\n",
    "\n",
    "# when looping over it returns two variables - index and item so i can grab them immediatelly\n",
    "for index, item in enumerate(l):\n",
    "    print(index, item)"
   ]
  },
  {
   "cell_type": "code",
   "execution_count": 20,
   "metadata": {},
   "outputs": [
    {
     "name": "stdout",
     "output_type": "stream",
     "text": [
      "0 frank\n",
      "1 jon\n",
      "2 dan\n",
      "3 brian\n",
      "4 alex\n",
      "5 kirk\n",
      "6 lenna\n",
      "7 peter\n",
      "8 paul\n"
     ]
    }
   ],
   "source": [
    "# traditional c-style way is WRONG\n",
    "for i in range(len(l)):\n",
    "    print(i, l[i])"
   ]
  },
  {
   "cell_type": "markdown",
   "metadata": {},
   "source": [
    "it is possible to start counting from a given point"
   ]
  },
  {
   "cell_type": "code",
   "execution_count": 19,
   "metadata": {},
   "outputs": [
    {
     "name": "stdout",
     "output_type": "stream",
     "text": [
      "1000 frank\n",
      "1001 jon\n",
      "1002 dan\n",
      "1003 brian\n",
      "1004 alex\n",
      "1005 kirk\n",
      "1006 lenna\n",
      "1007 peter\n",
      "1008 paul\n"
     ]
    }
   ],
   "source": [
    "for index, item in enumerate(l, 1000):\n",
    "    print(index, item)"
   ]
  },
  {
   "cell_type": "markdown",
   "metadata": {},
   "source": [
    "enumerate() is lazy iterator so it is fast with no memory overhead"
   ]
  },
  {
   "cell_type": "code",
   "execution_count": 55,
   "metadata": {},
   "outputs": [],
   "source": [
    "names = [\"frank\", \"jon\", \"dan\", \"brian\", \"alex\", \"kirk\", \"lenna\", \"peter\", \"paul\"]\n",
    "\n",
    "def pythonic_enumerate(some_iterable):\n",
    "    for index, element in enumerate(some_iterable):\n",
    "        print(index, element)\n",
    "    \n",
    "def c_style_enumerate(some_iterable):\n",
    "    for i in range(len(some_iterable)):\n",
    "        print(i, some_iterable[i])"
   ]
  }
 ],
 "metadata": {
  "kernelspec": {
   "display_name": "Python 3",
   "language": "python",
   "name": "python3"
  },
  "language_info": {
   "codemirror_mode": {
    "name": "ipython",
    "version": 3
   },
   "file_extension": ".py",
   "mimetype": "text/x-python",
   "name": "python",
   "nbconvert_exporter": "python",
   "pygments_lexer": "ipython3",
   "version": "3.6.5"
  }
 },
 "nbformat": 4,
 "nbformat_minor": 2
}
